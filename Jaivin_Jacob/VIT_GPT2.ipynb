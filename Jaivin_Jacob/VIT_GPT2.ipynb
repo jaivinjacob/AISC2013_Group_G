{
 "cells": [
  {
   "cell_type": "code",
   "execution_count": 3,
   "id": "070b190e-d5b0-4200-b15f-5305c5090104",
   "metadata": {
    "scrolled": true
   },
   "outputs": [
    {
     "name": "stdout",
     "output_type": "stream",
     "text": [
      "Requirement already satisfied: torch in c:\\users\\jaivi\\anaconda3\\envs\\python_new\\lib\\site-packages (2.3.0)\n",
      "Requirement already satisfied: torchvision in c:\\users\\jaivi\\anaconda3\\envs\\python_new\\lib\\site-packages (0.18.0)\n",
      "Requirement already satisfied: transformers in c:\\users\\jaivi\\anaconda3\\envs\\python_new\\lib\\site-packages (4.41.1)\n",
      "Requirement already satisfied: opencv-python in c:\\users\\jaivi\\anaconda3\\envs\\python_new\\lib\\site-packages (4.9.0.80)\n",
      "Requirement already satisfied: pandas in c:\\users\\jaivi\\anaconda3\\envs\\python_new\\lib\\site-packages (2.2.2)\n",
      "Requirement already satisfied: tqdm in c:\\users\\jaivi\\anaconda3\\envs\\python_new\\lib\\site-packages (4.66.4)\n",
      "Requirement already satisfied: filelock in c:\\users\\jaivi\\anaconda3\\envs\\python_new\\lib\\site-packages (from torch) (3.14.0)\n",
      "Requirement already satisfied: typing-extensions>=4.8.0 in c:\\users\\jaivi\\anaconda3\\envs\\python_new\\lib\\site-packages (from torch) (4.11.0)\n",
      "Requirement already satisfied: sympy in c:\\users\\jaivi\\anaconda3\\envs\\python_new\\lib\\site-packages (from torch) (1.12)\n",
      "Requirement already satisfied: networkx in c:\\users\\jaivi\\anaconda3\\envs\\python_new\\lib\\site-packages (from torch) (3.3)\n",
      "Requirement already satisfied: jinja2 in c:\\users\\jaivi\\anaconda3\\envs\\python_new\\lib\\site-packages (from torch) (3.1.3)\n",
      "Requirement already satisfied: fsspec in c:\\users\\jaivi\\anaconda3\\envs\\python_new\\lib\\site-packages (from torch) (2024.5.0)\n",
      "Requirement already satisfied: mkl<=2021.4.0,>=2021.1.1 in c:\\users\\jaivi\\anaconda3\\envs\\python_new\\lib\\site-packages (from torch) (2021.4.0)\n",
      "Requirement already satisfied: numpy in c:\\users\\jaivi\\anaconda3\\envs\\python_new\\lib\\site-packages (from torchvision) (1.26.4)\n",
      "Requirement already satisfied: pillow!=8.3.*,>=5.3.0 in c:\\users\\jaivi\\anaconda3\\envs\\python_new\\lib\\site-packages (from torchvision) (10.3.0)\n",
      "Requirement already satisfied: huggingface-hub<1.0,>=0.23.0 in c:\\users\\jaivi\\anaconda3\\envs\\python_new\\lib\\site-packages (from transformers) (0.23.1)\n",
      "Requirement already satisfied: packaging>=20.0 in c:\\users\\jaivi\\anaconda3\\envs\\python_new\\lib\\site-packages (from transformers) (23.2)\n",
      "Requirement already satisfied: pyyaml>=5.1 in c:\\users\\jaivi\\anaconda3\\envs\\python_new\\lib\\site-packages (from transformers) (6.0.1)\n",
      "Requirement already satisfied: regex!=2019.12.17 in c:\\users\\jaivi\\anaconda3\\envs\\python_new\\lib\\site-packages (from transformers) (2024.5.15)\n",
      "Requirement already satisfied: requests in c:\\users\\jaivi\\anaconda3\\envs\\python_new\\lib\\site-packages (from transformers) (2.31.0)\n",
      "Requirement already satisfied: tokenizers<0.20,>=0.19 in c:\\users\\jaivi\\anaconda3\\envs\\python_new\\lib\\site-packages (from transformers) (0.19.1)\n",
      "Requirement already satisfied: safetensors>=0.4.1 in c:\\users\\jaivi\\anaconda3\\envs\\python_new\\lib\\site-packages (from transformers) (0.4.3)\n",
      "Requirement already satisfied: python-dateutil>=2.8.2 in c:\\users\\jaivi\\anaconda3\\envs\\python_new\\lib\\site-packages (from pandas) (2.8.2)\n",
      "Requirement already satisfied: pytz>=2020.1 in c:\\users\\jaivi\\anaconda3\\envs\\python_new\\lib\\site-packages (from pandas) (2024.1)\n",
      "Requirement already satisfied: tzdata>=2022.7 in c:\\users\\jaivi\\anaconda3\\envs\\python_new\\lib\\site-packages (from pandas) (2024.1)\n",
      "Requirement already satisfied: colorama in c:\\users\\jaivi\\anaconda3\\envs\\python_new\\lib\\site-packages (from tqdm) (0.4.6)\n",
      "Requirement already satisfied: intel-openmp==2021.* in c:\\users\\jaivi\\anaconda3\\envs\\python_new\\lib\\site-packages (from mkl<=2021.4.0,>=2021.1.1->torch) (2021.4.0)\n",
      "Requirement already satisfied: tbb==2021.* in c:\\users\\jaivi\\anaconda3\\envs\\python_new\\lib\\site-packages (from mkl<=2021.4.0,>=2021.1.1->torch) (2021.12.0)\n",
      "Requirement already satisfied: six>=1.5 in c:\\users\\jaivi\\anaconda3\\envs\\python_new\\lib\\site-packages (from python-dateutil>=2.8.2->pandas) (1.16.0)\n",
      "Requirement already satisfied: MarkupSafe>=2.0 in c:\\users\\jaivi\\anaconda3\\envs\\python_new\\lib\\site-packages (from jinja2->torch) (2.1.3)\n",
      "Requirement already satisfied: charset-normalizer<4,>=2 in c:\\users\\jaivi\\anaconda3\\envs\\python_new\\lib\\site-packages (from requests->transformers) (2.0.4)\n",
      "Requirement already satisfied: idna<4,>=2.5 in c:\\users\\jaivi\\anaconda3\\envs\\python_new\\lib\\site-packages (from requests->transformers) (3.7)\n",
      "Requirement already satisfied: urllib3<3,>=1.21.1 in c:\\users\\jaivi\\anaconda3\\envs\\python_new\\lib\\site-packages (from requests->transformers) (2.2.1)\n",
      "Requirement already satisfied: certifi>=2017.4.17 in c:\\users\\jaivi\\anaconda3\\envs\\python_new\\lib\\site-packages (from requests->transformers) (2024.2.2)\n",
      "Requirement already satisfied: mpmath>=0.19 in c:\\users\\jaivi\\anaconda3\\envs\\python_new\\lib\\site-packages (from sympy->torch) (1.3.0)\n"
     ]
    }
   ],
   "source": [
    "!pip install torch torchvision transformers opencv-python pandas tqdm"
   ]
  },
  {
   "cell_type": "code",
   "execution_count": 1,
   "id": "3c6197db-98b1-41a1-b059-a50ea004d2be",
   "metadata": {},
   "outputs": [
    {
     "name": "stderr",
     "output_type": "stream",
     "text": [
      "C:\\Users\\jaivi\\anaconda3\\envs\\python_new\\lib\\site-packages\\tqdm\\auto.py:21: TqdmWarning: IProgress not found. Please update jupyter and ipywidgets. See https://ipywidgets.readthedocs.io/en/stable/user_install.html\n",
      "  from .autonotebook import tqdm as notebook_tqdm\n"
     ]
    }
   ],
   "source": [
    "import os\n",
    "import cv2\n",
    "import pandas as pd\n",
    "import torch\n",
    "from transformers import VisionEncoderDecoderModel, ViTFeatureExtractor, AutoTokenizer\n",
    "from tqdm import tqdm"
   ]
  },
  {
   "cell_type": "code",
   "execution_count": 2,
   "id": "e6ca8c49-7295-48e8-824c-ca57037efb5d",
   "metadata": {},
   "outputs": [],
   "source": [
    "# Load CSV file\n",
    "df = pd.read_csv('movie_description.csv')\n",
    "\n",
    "# Function to extract frames from video\n",
    "def extract_frames(video_path, num_frames=16):\n",
    "    frames = []\n",
    "    cap = cv2.VideoCapture(video_path)\n",
    "    total_frames = int(cap.get(cv2.CAP_PROP_FRAME_COUNT))\n",
    "    interval = max(total_frames // num_frames, 1)\n",
    "    for i in range(0, total_frames, interval):\n",
    "        cap.set(cv2.CAP_PROP_POS_FRAMES, i)\n",
    "        ret, frame = cap.read()\n",
    "        if ret:\n",
    "            frame = cv2.cvtColor(frame, cv2.COLOR_BGR2RGB)\n",
    "            frames.append(cv2.resize(frame, (224, 224)))\n",
    "        if len(frames) == num_frames:\n",
    "            break\n",
    "    cap.release()\n",
    "    return frames"
   ]
  },
  {
   "cell_type": "code",
   "execution_count": 3,
   "id": "246b376b-44e4-4759-8efb-0dcdd1d31d65",
   "metadata": {},
   "outputs": [
    {
     "name": "stderr",
     "output_type": "stream",
     "text": [
      "C:\\Users\\jaivi\\anaconda3\\envs\\python_new\\lib\\site-packages\\transformers\\models\\vit\\feature_extraction_vit.py:28: FutureWarning: The class ViTFeatureExtractor is deprecated and will be removed in version 5 of Transformers. Please use ViTImageProcessor instead.\n",
      "  warnings.warn(\n"
     ]
    }
   ],
   "source": [
    "# Load pre-trained model\n",
    "model = VisionEncoderDecoderModel.from_pretrained(\"nlpconnect/vit-gpt2-image-captioning\")\n",
    "feature_extractor = ViTFeatureExtractor.from_pretrained(\"nlpconnect/vit-gpt2-image-captioning\")\n",
    "tokenizer = AutoTokenizer.from_pretrained(\"nlpconnect/vit-gpt2-image-captioning\")"
   ]
  },
  {
   "cell_type": "code",
   "execution_count": 4,
   "id": "bb46d6b8-965a-4f20-bd8f-ebe608553119",
   "metadata": {},
   "outputs": [],
   "source": [
    "# Function to generate captions\n",
    "def generate_caption(model, feature_extractor, tokenizer, frames):\n",
    "    inputs = feature_extractor(images=frames, return_tensors=\"pt\")\n",
    "    pixel_values = inputs.pixel_values\n",
    "    output_ids = model.generate(pixel_values)\n",
    "    caption = tokenizer.decode(output_ids[0], skip_special_tokens=True)\n",
    "    return caption"
   ]
  },
  {
   "cell_type": "code",
   "execution_count": 16,
   "id": "d251c5a4-1493-405f-b4f2-49e11258c304",
   "metadata": {},
   "outputs": [
    {
     "name": "stdout",
     "output_type": "stream",
     "text": [
      "Generated Caption: a tray of oranges and a piece of bread \n"
     ]
    }
   ],
   "source": [
    "# Function to generate caption for a specific video\n",
    "def generate_caption_for_video(video_path, model, feature_extractor, tokenizer):\n",
    "    frames = extract_frames(video_path)\n",
    "    caption = generate_caption(model, feature_extractor, tokenizer, frames)\n",
    "    return caption\n",
    "\n",
    "# Example usage:\n",
    "video_path = 'videos_1000/1063125190.mp4'  # Specify the path to the video\n",
    "caption = generate_caption_for_video(video_path, model, feature_extractor, tokenizer)\n",
    "print(f\"Generated Caption: {caption}\")"
   ]
  },
  {
   "cell_type": "code",
   "execution_count": 12,
   "id": "b3d96934-bc21-4cee-8705-1c6cc743bc8f",
   "metadata": {},
   "outputs": [
    {
     "name": "stdout",
     "output_type": "stream",
     "text": [
      "video_id                                              1063125190\n",
      "video_path                            videos_1000\\1063125190.mp4\n",
      "description    A beautiful cookie with oranges lies on a gree...\n",
      "Name: 2, dtype: object\n"
     ]
    }
   ],
   "source": [
    "print(df.iloc[2])"
   ]
  },
  {
   "cell_type": "code",
   "execution_count": 18,
   "id": "f9141492-3339-4083-a02f-91f71f1642b2",
   "metadata": {},
   "outputs": [
    {
     "name": "stdout",
     "output_type": "stream",
     "text": [
      "     video_id             video_path  \\\n",
      "727     37694  videos_1000\\37694.mp4   \n",
      "\n",
      "                                           description  \n",
      "727  Surfing and surfer at the atlantic ocean in po...  \n"
     ]
    }
   ],
   "source": [
    "# Specify the column name and the desired value\n",
    "column_name = 'video_id'\n",
    "desired_value = 21179416  # For example\n",
    "\n",
    "# Fetch the row where the specified column has the desired value\n",
    "desired_row = df[df[column_name] == desired_value]\n",
    "\n",
    "# Print the fetched row\n",
    "print(desired_row)\n"
   ]
  },
  {
   "cell_type": "code",
   "execution_count": 21,
   "id": "950ee848-cce9-4121-8893-85a0f4b99547",
   "metadata": {},
   "outputs": [
    {
     "ename": "ImportError",
     "evalue": "cannot import name 'ViViTModelForVideoClassification' from 'transformers' (C:\\Users\\jaivi\\anaconda3\\envs\\python_new\\lib\\site-packages\\transformers\\__init__.py)",
     "output_type": "error",
     "traceback": [
      "\u001b[1;31m---------------------------------------------------------------------------\u001b[0m",
      "\u001b[1;31mImportError\u001b[0m                               Traceback (most recent call last)",
      "Cell \u001b[1;32mIn[21], line 2\u001b[0m\n\u001b[0;32m      1\u001b[0m \u001b[38;5;28;01mimport\u001b[39;00m \u001b[38;5;21;01mtorch\u001b[39;00m\n\u001b[1;32m----> 2\u001b[0m \u001b[38;5;28;01mfrom\u001b[39;00m \u001b[38;5;21;01mtransformers\u001b[39;00m \u001b[38;5;28;01mimport\u001b[39;00m ViTFeatureExtractor, ViViTModelForVideoClassification  \u001b[38;5;66;03m# Placeholder for image feature extraction (consider video-specific libraries)\u001b[39;00m\n\u001b[0;32m      3\u001b[0m \u001b[38;5;66;03m# Import video feature extraction library (e.g., slowfast from facebookresearch)\u001b[39;00m\n\u001b[0;32m      5\u001b[0m \u001b[38;5;28;01mdef\u001b[39;00m \u001b[38;5;21mextract_video_features\u001b[39m(video_path, feature_extractor, model):\n",
      "\u001b[1;31mImportError\u001b[0m: cannot import name 'ViViTModelForVideoClassification' from 'transformers' (C:\\Users\\jaivi\\anaconda3\\envs\\python_new\\lib\\site-packages\\transformers\\__init__.py)"
     ]
    }
   ],
   "source": [
    "import torch\n",
    "from transformers import ViTFeatureExtractor, ViViTModelForVideoClassification  # Placeholder for image feature extraction (consider video-specific libraries)\n",
    "# Import video feature extraction library (e.g., slowfast from facebookresearch)\n",
    "\n",
    "def extract_video_features(video_path, feature_extractor, model):\n",
    "  \"\"\"Extracts features from a video using a pre-trained model.\n",
    "\n",
    "  Args:\n",
    "      video_path (str): Path to the video file.\n",
    "      feature_extractor (object): Video feature extractor from the chosen library.\n",
    "      model (object): Pre-trained video classification model from the chosen library.\n",
    "\n",
    "  Returns:\n",
    "      torch.Tensor: Extracted video features.\n",
    "  \"\"\"\n",
    "\n",
    "  # Preprocess the video using the feature extractor (implementation depends on the library)\n",
    "  inputs = feature_extractor(video_path)  # Replace with specific library's call\n",
    "\n",
    "  # Extract features from the preprocessed video\n",
    "  with torch.no_grad():\n",
    "    outputs = model(**inputs)\n",
    "    features = outputs.logits  # Assuming logits represent the video features\n",
    "\n",
    "  return features\n",
    "\n",
    "# Example usage (replace with your actual video description generation implementation)\n",
    "def generate_description(video_features):\n",
    "  # Use video features to generate a textual description (implementation details depend on your approach)\n",
    "  description = \"Placeholder description based on features\"  # Replace with your logic\n",
    "  return description\n",
    "\n",
    "# Example video path (replace with yours)\n",
    "video_path = \"path/to/your/video.mp4\"\n",
    "\n",
    "# Feature extraction (replace with video-specific library)\n",
    "feature_extractor = ViTFeatureExtractor.from_pretrained(\"microsoft/video-vit-base-patch32\")  # Placeholder (not for video)\n",
    "model = ViViTModelForVideoClassification.from_pretrained(\"microsoft/video-vit-base-patch32\")  # Placeholder (not for video)\n",
    "\n",
    "# Extract features\n",
    "video_features = extract_video_features(video_path, feature_extractor, model)\n",
    "\n",
    "# # Generate description (replace with your implementation)\n",
    "# description = generate_description(video_features)\n",
    "# print(description)\n"
   ]
  },
  {
   "cell_type": "code",
   "execution_count": 19,
   "id": "c982eba7-e364-4858-b018-de5083a12dc2",
   "metadata": {},
   "outputs": [
    {
     "name": "stdout",
     "output_type": "stream",
     "text": [
      "Requirement already satisfied: transformers[vision] in c:\\users\\jaivi\\anaconda3\\envs\\python_new\\lib\\site-packages (4.41.1)\n",
      "Requirement already satisfied: filelock in c:\\users\\jaivi\\anaconda3\\envs\\python_new\\lib\\site-packages (from transformers[vision]) (3.14.0)\n",
      "Requirement already satisfied: huggingface-hub<1.0,>=0.23.0 in c:\\users\\jaivi\\anaconda3\\envs\\python_new\\lib\\site-packages (from transformers[vision]) (0.23.1)\n",
      "Requirement already satisfied: numpy>=1.17 in c:\\users\\jaivi\\anaconda3\\envs\\python_new\\lib\\site-packages (from transformers[vision]) (1.26.4)\n",
      "Requirement already satisfied: packaging>=20.0 in c:\\users\\jaivi\\anaconda3\\envs\\python_new\\lib\\site-packages (from transformers[vision]) (23.2)\n",
      "Requirement already satisfied: pyyaml>=5.1 in c:\\users\\jaivi\\anaconda3\\envs\\python_new\\lib\\site-packages (from transformers[vision]) (6.0.1)\n",
      "Requirement already satisfied: regex!=2019.12.17 in c:\\users\\jaivi\\anaconda3\\envs\\python_new\\lib\\site-packages (from transformers[vision]) (2024.5.15)\n",
      "Requirement already satisfied: requests in c:\\users\\jaivi\\anaconda3\\envs\\python_new\\lib\\site-packages (from transformers[vision]) (2.31.0)\n",
      "Requirement already satisfied: tokenizers<0.20,>=0.19 in c:\\users\\jaivi\\anaconda3\\envs\\python_new\\lib\\site-packages (from transformers[vision]) (0.19.1)\n",
      "Requirement already satisfied: safetensors>=0.4.1 in c:\\users\\jaivi\\anaconda3\\envs\\python_new\\lib\\site-packages (from transformers[vision]) (0.4.3)\n",
      "Requirement already satisfied: tqdm>=4.27 in c:\\users\\jaivi\\anaconda3\\envs\\python_new\\lib\\site-packages (from transformers[vision]) (4.66.4)\n",
      "Requirement already satisfied: Pillow<=15.0,>=10.0.1 in c:\\users\\jaivi\\anaconda3\\envs\\python_new\\lib\\site-packages (from transformers[vision]) (10.3.0)\n",
      "Requirement already satisfied: fsspec>=2023.5.0 in c:\\users\\jaivi\\anaconda3\\envs\\python_new\\lib\\site-packages (from huggingface-hub<1.0,>=0.23.0->transformers[vision]) (2024.5.0)\n",
      "Requirement already satisfied: typing-extensions>=3.7.4.3 in c:\\users\\jaivi\\anaconda3\\envs\\python_new\\lib\\site-packages (from huggingface-hub<1.0,>=0.23.0->transformers[vision]) (4.11.0)\n",
      "Requirement already satisfied: colorama in c:\\users\\jaivi\\anaconda3\\envs\\python_new\\lib\\site-packages (from tqdm>=4.27->transformers[vision]) (0.4.6)\n",
      "Requirement already satisfied: charset-normalizer<4,>=2 in c:\\users\\jaivi\\anaconda3\\envs\\python_new\\lib\\site-packages (from requests->transformers[vision]) (2.0.4)\n",
      "Requirement already satisfied: idna<4,>=2.5 in c:\\users\\jaivi\\anaconda3\\envs\\python_new\\lib\\site-packages (from requests->transformers[vision]) (3.7)\n",
      "Requirement already satisfied: urllib3<3,>=1.21.1 in c:\\users\\jaivi\\anaconda3\\envs\\python_new\\lib\\site-packages (from requests->transformers[vision]) (2.2.1)\n",
      "Requirement already satisfied: certifi>=2017.4.17 in c:\\users\\jaivi\\anaconda3\\envs\\python_new\\lib\\site-packages (from requests->transformers[vision]) (2024.2.2)\n"
     ]
    }
   ],
   "source": [
    "!pip install transformers[vision]"
   ]
  },
  {
   "cell_type": "code",
   "execution_count": null,
   "id": "4c01c1fe-60c1-4093-bb4d-a39f783d62a8",
   "metadata": {},
   "outputs": [],
   "source": [
    "# Example usage\n",
    "video_path = 'videos_1000/1063125190.mp4'\n",
    "description = generate_video_description(video_path)\n",
    "print(description)"
   ]
  },
  {
   "cell_type": "code",
   "execution_count": 22,
   "id": "74eda229-b6fb-4642-9292-077bba1b6cfe",
   "metadata": {},
   "outputs": [
    {
     "ename": "ImportError",
     "evalue": "cannot import name 'C3D' from 'tensorflow.keras.applications' (C:\\Users\\jaivi\\anaconda3\\envs\\python_new\\lib\\site-packages\\keras\\_tf_keras\\keras\\applications\\__init__.py)",
     "output_type": "error",
     "traceback": [
      "\u001b[1;31m---------------------------------------------------------------------------\u001b[0m",
      "\u001b[1;31mImportError\u001b[0m                               Traceback (most recent call last)",
      "Cell \u001b[1;32mIn[22], line 1\u001b[0m\n\u001b[1;32m----> 1\u001b[0m \u001b[38;5;28;01mfrom\u001b[39;00m \u001b[38;5;21;01mtensorflow\u001b[39;00m\u001b[38;5;21;01m.\u001b[39;00m\u001b[38;5;21;01mkeras\u001b[39;00m\u001b[38;5;21;01m.\u001b[39;00m\u001b[38;5;21;01mapplications\u001b[39;00m \u001b[38;5;28;01mimport\u001b[39;00m C3D\n\u001b[0;32m      2\u001b[0m \u001b[38;5;28;01mfrom\u001b[39;00m \u001b[38;5;21;01mtensorflow\u001b[39;00m\u001b[38;5;21;01m.\u001b[39;00m\u001b[38;5;21;01mkeras\u001b[39;00m\u001b[38;5;21;01m.\u001b[39;00m\u001b[38;5;21;01mpreprocessing\u001b[39;00m \u001b[38;5;28;01mimport\u001b[39;00m image\n\u001b[0;32m      3\u001b[0m \u001b[38;5;28;01mfrom\u001b[39;00m \u001b[38;5;21;01mtensorflow\u001b[39;00m\u001b[38;5;21;01m.\u001b[39;00m\u001b[38;5;21;01mkeras\u001b[39;00m\u001b[38;5;21;01m.\u001b[39;00m\u001b[38;5;21;01mutils\u001b[39;00m \u001b[38;5;28;01mimport\u001b[39;00m to_categorical\n",
      "\u001b[1;31mImportError\u001b[0m: cannot import name 'C3D' from 'tensorflow.keras.applications' (C:\\Users\\jaivi\\anaconda3\\envs\\python_new\\lib\\site-packages\\keras\\_tf_keras\\keras\\applications\\__init__.py)"
     ]
    }
   ],
   "source": [
    "from tensorflow.keras.applications import C3D\n",
    "from tensorflow.keras.preprocessing import image\n",
    "from tensorflow.keras.utils import to_categorical\n",
    "import cv2\n",
    "import numpy as np"
   ]
  },
  {
   "cell_type": "code",
   "execution_count": null,
   "id": "81b2d2cf-22d8-43cd-b04c-603671ecd332",
   "metadata": {},
   "outputs": [],
   "source": []
  }
 ],
 "metadata": {
  "kernelspec": {
   "display_name": "Python 3 (ipykernel)",
   "language": "python",
   "name": "python3"
  },
  "language_info": {
   "codemirror_mode": {
    "name": "ipython",
    "version": 3
   },
   "file_extension": ".py",
   "mimetype": "text/x-python",
   "name": "python",
   "nbconvert_exporter": "python",
   "pygments_lexer": "ipython3",
   "version": "3.10.14"
  }
 },
 "nbformat": 4,
 "nbformat_minor": 5
}
