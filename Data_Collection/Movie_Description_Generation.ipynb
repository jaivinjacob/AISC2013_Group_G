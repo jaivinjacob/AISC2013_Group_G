{
 "cells": [
  {
   "cell_type": "code",
   "execution_count": 3,
   "id": "687bbc0e-0037-4b2e-b0d9-224a1068b0a0",
   "metadata": {},
   "outputs": [
    {
     "name": "stdout",
     "output_type": "stream",
     "text": [
      "Collecting git+https://github.com/google-research/scenic.git\n",
      "  Cloning https://github.com/google-research/scenic.git to c:\\users\\jaivi\\appdata\\local\\temp\\pip-req-build-2wfm_58p\n",
      "  Resolved https://github.com/google-research/scenic.git to commit e08103067d2033470e5d072a0f4117a02f6f9a4a\n",
      "  Preparing metadata (setup.py): started\n",
      "  Preparing metadata (setup.py): finished with status 'done'\n",
      "Collecting optax@ git+https://github.com/google-deepmind/optax.git@main (from scenic==0.0.1)\n",
      "  Cloning https://github.com/google-deepmind/optax.git (to revision main) to c:\\users\\jaivi\\appdata\\local\\temp\\pip-install-t180linc\\optax_52375dd16dcb4396a077f872626c9e61\n",
      "  Resolved https://github.com/google-deepmind/optax.git to commit dd1dac479e8bb49f58fec98c0c34316cba9d2c99\n",
      "  Installing build dependencies: started\n",
      "  Installing build dependencies: finished with status 'done'\n",
      "  Getting requirements to build wheel: started\n",
      "  Getting requirements to build wheel: finished with status 'done'\n",
      "  Preparing metadata (pyproject.toml): started\n",
      "  Preparing metadata (pyproject.toml): finished with status 'done'\n",
      "Requirement already satisfied: absl-py>=1.0.0 in c:\\users\\jaivi\\anaconda3\\envs\\python_new\\lib\\site-packages (from scenic==0.0.1) (2.1.0)\n",
      "Requirement already satisfied: numpy>=1.12 in c:\\users\\jaivi\\anaconda3\\envs\\python_new\\lib\\site-packages (from scenic==0.0.1) (1.26.4)\n",
      "Requirement already satisfied: jax>=0.4.3 in c:\\users\\jaivi\\anaconda3\\envs\\python_new\\lib\\site-packages (from scenic==0.0.1) (0.4.28)\n",
      "Requirement already satisfied: jaxlib>=0.4.3 in c:\\users\\jaivi\\anaconda3\\envs\\python_new\\lib\\site-packages (from scenic==0.0.1) (0.4.28)\n",
      "Requirement already satisfied: flax>=0.4.0 in c:\\users\\jaivi\\anaconda3\\envs\\python_new\\lib\\site-packages (from scenic==0.0.1) (0.8.3)\n",
      "Requirement already satisfied: ml-collections>=0.1.1 in c:\\users\\jaivi\\anaconda3\\envs\\python_new\\lib\\site-packages (from scenic==0.0.1) (0.1.1)\n",
      "Requirement already satisfied: tensorflow>=2.7 in c:\\users\\jaivi\\anaconda3\\envs\\python_new\\lib\\site-packages (from scenic==0.0.1) (2.16.1)\n",
      "Requirement already satisfied: immutabledict>=2.2.1 in c:\\users\\jaivi\\anaconda3\\envs\\python_new\\lib\\site-packages (from scenic==0.0.1) (4.2.0)\n",
      "Requirement already satisfied: clu>=0.0.6 in c:\\users\\jaivi\\anaconda3\\envs\\python_new\\lib\\site-packages (from scenic==0.0.1) (0.0.12)\n",
      "Requirement already satisfied: tensorflow-datasets in c:\\users\\jaivi\\anaconda3\\envs\\python_new\\lib\\site-packages (from scenic==0.0.1) (4.9.4)\n",
      "Requirement already satisfied: etils[epath] in c:\\users\\jaivi\\anaconda3\\envs\\python_new\\lib\\site-packages (from clu>=0.0.6->scenic==0.0.1) (1.7.0)\n",
      "Requirement already satisfied: packaging in c:\\users\\jaivi\\anaconda3\\envs\\python_new\\lib\\site-packages (from clu>=0.0.6->scenic==0.0.1) (23.2)\n",
      "Requirement already satisfied: typing-extensions in c:\\users\\jaivi\\anaconda3\\envs\\python_new\\lib\\site-packages (from clu>=0.0.6->scenic==0.0.1) (4.11.0)\n",
      "Requirement already satisfied: wrapt in c:\\users\\jaivi\\anaconda3\\envs\\python_new\\lib\\site-packages (from clu>=0.0.6->scenic==0.0.1) (1.16.0)\n",
      "Requirement already satisfied: msgpack in c:\\users\\jaivi\\anaconda3\\envs\\python_new\\lib\\site-packages (from flax>=0.4.0->scenic==0.0.1) (1.0.8)\n",
      "Requirement already satisfied: orbax-checkpoint in c:\\users\\jaivi\\anaconda3\\envs\\python_new\\lib\\site-packages (from flax>=0.4.0->scenic==0.0.1) (0.5.11)\n",
      "Requirement already satisfied: tensorstore in c:\\users\\jaivi\\anaconda3\\envs\\python_new\\lib\\site-packages (from flax>=0.4.0->scenic==0.0.1) (0.1.59)\n",
      "Requirement already satisfied: rich>=11.1 in c:\\users\\jaivi\\anaconda3\\envs\\python_new\\lib\\site-packages (from flax>=0.4.0->scenic==0.0.1) (13.7.1)\n",
      "Requirement already satisfied: PyYAML>=5.4.1 in c:\\users\\jaivi\\anaconda3\\envs\\python_new\\lib\\site-packages (from flax>=0.4.0->scenic==0.0.1) (6.0.1)\n",
      "Requirement already satisfied: ml-dtypes>=0.2.0 in c:\\users\\jaivi\\anaconda3\\envs\\python_new\\lib\\site-packages (from jax>=0.4.3->scenic==0.0.1) (0.3.2)\n",
      "Requirement already satisfied: opt-einsum in c:\\users\\jaivi\\anaconda3\\envs\\python_new\\lib\\site-packages (from jax>=0.4.3->scenic==0.0.1) (3.3.0)\n",
      "Requirement already satisfied: scipy>=1.9 in c:\\users\\jaivi\\anaconda3\\envs\\python_new\\lib\\site-packages (from jax>=0.4.3->scenic==0.0.1) (1.13.0)\n",
      "Requirement already satisfied: six in c:\\users\\jaivi\\anaconda3\\envs\\python_new\\lib\\site-packages (from ml-collections>=0.1.1->scenic==0.0.1) (1.16.0)\n",
      "Requirement already satisfied: contextlib2 in c:\\users\\jaivi\\anaconda3\\envs\\python_new\\lib\\site-packages (from ml-collections>=0.1.1->scenic==0.0.1) (21.6.0)\n",
      "Requirement already satisfied: tensorflow-intel==2.16.1 in c:\\users\\jaivi\\anaconda3\\envs\\python_new\\lib\\site-packages (from tensorflow>=2.7->scenic==0.0.1) (2.16.1)\n",
      "Requirement already satisfied: astunparse>=1.6.0 in c:\\users\\jaivi\\anaconda3\\envs\\python_new\\lib\\site-packages (from tensorflow-intel==2.16.1->tensorflow>=2.7->scenic==0.0.1) (1.6.3)\n",
      "Requirement already satisfied: flatbuffers>=23.5.26 in c:\\users\\jaivi\\anaconda3\\envs\\python_new\\lib\\site-packages (from tensorflow-intel==2.16.1->tensorflow>=2.7->scenic==0.0.1) (24.3.25)\n",
      "Requirement already satisfied: gast!=0.5.0,!=0.5.1,!=0.5.2,>=0.2.1 in c:\\users\\jaivi\\anaconda3\\envs\\python_new\\lib\\site-packages (from tensorflow-intel==2.16.1->tensorflow>=2.7->scenic==0.0.1) (0.5.4)\n",
      "Requirement already satisfied: google-pasta>=0.1.1 in c:\\users\\jaivi\\anaconda3\\envs\\python_new\\lib\\site-packages (from tensorflow-intel==2.16.1->tensorflow>=2.7->scenic==0.0.1) (0.2.0)\n",
      "Requirement already satisfied: h5py>=3.10.0 in c:\\users\\jaivi\\anaconda3\\envs\\python_new\\lib\\site-packages (from tensorflow-intel==2.16.1->tensorflow>=2.7->scenic==0.0.1) (3.11.0)\n",
      "Requirement already satisfied: libclang>=13.0.0 in c:\\users\\jaivi\\anaconda3\\envs\\python_new\\lib\\site-packages (from tensorflow-intel==2.16.1->tensorflow>=2.7->scenic==0.0.1) (18.1.1)\n",
      "Requirement already satisfied: protobuf!=4.21.0,!=4.21.1,!=4.21.2,!=4.21.3,!=4.21.4,!=4.21.5,<5.0.0dev,>=3.20.3 in c:\\users\\jaivi\\anaconda3\\envs\\python_new\\lib\\site-packages (from tensorflow-intel==2.16.1->tensorflow>=2.7->scenic==0.0.1) (3.20.3)\n",
      "Requirement already satisfied: requests<3,>=2.21.0 in c:\\users\\jaivi\\anaconda3\\envs\\python_new\\lib\\site-packages (from tensorflow-intel==2.16.1->tensorflow>=2.7->scenic==0.0.1) (2.31.0)\n",
      "Requirement already satisfied: setuptools in c:\\users\\jaivi\\anaconda3\\envs\\python_new\\lib\\site-packages (from tensorflow-intel==2.16.1->tensorflow>=2.7->scenic==0.0.1) (69.5.1)\n",
      "Requirement already satisfied: termcolor>=1.1.0 in c:\\users\\jaivi\\anaconda3\\envs\\python_new\\lib\\site-packages (from tensorflow-intel==2.16.1->tensorflow>=2.7->scenic==0.0.1) (2.4.0)\n",
      "Requirement already satisfied: grpcio<2.0,>=1.24.3 in c:\\users\\jaivi\\anaconda3\\envs\\python_new\\lib\\site-packages (from tensorflow-intel==2.16.1->tensorflow>=2.7->scenic==0.0.1) (1.64.0)\n",
      "Requirement already satisfied: tensorboard<2.17,>=2.16 in c:\\users\\jaivi\\anaconda3\\envs\\python_new\\lib\\site-packages (from tensorflow-intel==2.16.1->tensorflow>=2.7->scenic==0.0.1) (2.16.2)\n",
      "Requirement already satisfied: keras>=3.0.0 in c:\\users\\jaivi\\anaconda3\\envs\\python_new\\lib\\site-packages (from tensorflow-intel==2.16.1->tensorflow>=2.7->scenic==0.0.1) (3.3.3)\n",
      "Requirement already satisfied: tensorflow-io-gcs-filesystem>=0.23.1 in c:\\users\\jaivi\\anaconda3\\envs\\python_new\\lib\\site-packages (from tensorflow-intel==2.16.1->tensorflow>=2.7->scenic==0.0.1) (0.31.0)\n",
      "Requirement already satisfied: chex>=0.1.86 in c:\\users\\jaivi\\anaconda3\\envs\\python_new\\lib\\site-packages (from optax@ git+https://github.com/google-deepmind/optax.git@main->scenic==0.0.1) (0.1.86)\n",
      "Requirement already satisfied: click in c:\\users\\jaivi\\anaconda3\\envs\\python_new\\lib\\site-packages (from tensorflow-datasets->scenic==0.0.1) (8.1.7)\n",
      "Requirement already satisfied: dm-tree in c:\\users\\jaivi\\anaconda3\\envs\\python_new\\lib\\site-packages (from tensorflow-datasets->scenic==0.0.1) (0.1.8)\n",
      "Requirement already satisfied: promise in c:\\users\\jaivi\\anaconda3\\envs\\python_new\\lib\\site-packages (from tensorflow-datasets->scenic==0.0.1) (2.3)\n",
      "Requirement already satisfied: psutil in c:\\users\\jaivi\\anaconda3\\envs\\python_new\\lib\\site-packages (from tensorflow-datasets->scenic==0.0.1) (5.9.0)\n",
      "Requirement already satisfied: tensorflow-metadata in c:\\users\\jaivi\\anaconda3\\envs\\python_new\\lib\\site-packages (from tensorflow-datasets->scenic==0.0.1) (1.15.0)\n",
      "Requirement already satisfied: toml in c:\\users\\jaivi\\anaconda3\\envs\\python_new\\lib\\site-packages (from tensorflow-datasets->scenic==0.0.1) (0.10.2)\n",
      "Requirement already satisfied: tqdm in c:\\users\\jaivi\\anaconda3\\envs\\python_new\\lib\\site-packages (from tensorflow-datasets->scenic==0.0.1) (4.66.4)\n",
      "Requirement already satisfied: toolz>=0.9.0 in c:\\users\\jaivi\\anaconda3\\envs\\python_new\\lib\\site-packages (from chex>=0.1.86->optax@ git+https://github.com/google-deepmind/optax.git@main->scenic==0.0.1) (0.12.1)\n",
      "Requirement already satisfied: fsspec in c:\\users\\jaivi\\anaconda3\\envs\\python_new\\lib\\site-packages (from etils[enp,epath,etree]>=0.9.0->tensorflow-datasets->scenic==0.0.1) (2024.5.0)\n",
      "Requirement already satisfied: importlib_resources in c:\\users\\jaivi\\anaconda3\\envs\\python_new\\lib\\site-packages (from etils[enp,epath,etree]>=0.9.0->tensorflow-datasets->scenic==0.0.1) (6.4.0)\n",
      "Requirement already satisfied: zipp in c:\\users\\jaivi\\anaconda3\\envs\\python_new\\lib\\site-packages (from etils[enp,epath,etree]>=0.9.0->tensorflow-datasets->scenic==0.0.1) (3.18.2)\n",
      "Requirement already satisfied: charset-normalizer<4,>=2 in c:\\users\\jaivi\\anaconda3\\envs\\python_new\\lib\\site-packages (from requests<3,>=2.21.0->tensorflow-intel==2.16.1->tensorflow>=2.7->scenic==0.0.1) (2.0.4)\n",
      "Requirement already satisfied: idna<4,>=2.5 in c:\\users\\jaivi\\anaconda3\\envs\\python_new\\lib\\site-packages (from requests<3,>=2.21.0->tensorflow-intel==2.16.1->tensorflow>=2.7->scenic==0.0.1) (3.7)\n",
      "Requirement already satisfied: urllib3<3,>=1.21.1 in c:\\users\\jaivi\\anaconda3\\envs\\python_new\\lib\\site-packages (from requests<3,>=2.21.0->tensorflow-intel==2.16.1->tensorflow>=2.7->scenic==0.0.1) (2.2.1)\n",
      "Requirement already satisfied: certifi>=2017.4.17 in c:\\users\\jaivi\\anaconda3\\envs\\python_new\\lib\\site-packages (from requests<3,>=2.21.0->tensorflow-intel==2.16.1->tensorflow>=2.7->scenic==0.0.1) (2024.2.2)\n",
      "Requirement already satisfied: markdown-it-py>=2.2.0 in c:\\users\\jaivi\\anaconda3\\envs\\python_new\\lib\\site-packages (from rich>=11.1->flax>=0.4.0->scenic==0.0.1) (3.0.0)\n",
      "Requirement already satisfied: pygments<3.0.0,>=2.13.0 in c:\\users\\jaivi\\anaconda3\\envs\\python_new\\lib\\site-packages (from rich>=11.1->flax>=0.4.0->scenic==0.0.1) (2.15.1)\n",
      "Requirement already satisfied: colorama in c:\\users\\jaivi\\anaconda3\\envs\\python_new\\lib\\site-packages (from click->tensorflow-datasets->scenic==0.0.1) (0.4.6)\n",
      "Requirement already satisfied: nest_asyncio in c:\\users\\jaivi\\anaconda3\\envs\\python_new\\lib\\site-packages (from orbax-checkpoint->flax>=0.4.0->scenic==0.0.1) (1.6.0)\n",
      "Requirement already satisfied: wheel<1.0,>=0.23.0 in c:\\users\\jaivi\\anaconda3\\envs\\python_new\\lib\\site-packages (from astunparse>=1.6.0->tensorflow-intel==2.16.1->tensorflow>=2.7->scenic==0.0.1) (0.43.0)\n",
      "Requirement already satisfied: namex in c:\\users\\jaivi\\anaconda3\\envs\\python_new\\lib\\site-packages (from keras>=3.0.0->tensorflow-intel==2.16.1->tensorflow>=2.7->scenic==0.0.1) (0.0.8)\n",
      "Requirement already satisfied: optree in c:\\users\\jaivi\\anaconda3\\envs\\python_new\\lib\\site-packages (from keras>=3.0.0->tensorflow-intel==2.16.1->tensorflow>=2.7->scenic==0.0.1) (0.11.0)\n",
      "Requirement already satisfied: mdurl~=0.1 in c:\\users\\jaivi\\anaconda3\\envs\\python_new\\lib\\site-packages (from markdown-it-py>=2.2.0->rich>=11.1->flax>=0.4.0->scenic==0.0.1) (0.1.2)\n",
      "Requirement already satisfied: markdown>=2.6.8 in c:\\users\\jaivi\\anaconda3\\envs\\python_new\\lib\\site-packages (from tensorboard<2.17,>=2.16->tensorflow-intel==2.16.1->tensorflow>=2.7->scenic==0.0.1) (3.6)\n",
      "Requirement already satisfied: tensorboard-data-server<0.8.0,>=0.7.0 in c:\\users\\jaivi\\anaconda3\\envs\\python_new\\lib\\site-packages (from tensorboard<2.17,>=2.16->tensorflow-intel==2.16.1->tensorflow>=2.7->scenic==0.0.1) (0.7.2)\n",
      "Requirement already satisfied: werkzeug>=1.0.1 in c:\\users\\jaivi\\anaconda3\\envs\\python_new\\lib\\site-packages (from tensorboard<2.17,>=2.16->tensorflow-intel==2.16.1->tensorflow>=2.7->scenic==0.0.1) (3.0.3)\n",
      "Requirement already satisfied: MarkupSafe>=2.1.1 in c:\\users\\jaivi\\anaconda3\\envs\\python_new\\lib\\site-packages (from werkzeug>=1.0.1->tensorboard<2.17,>=2.16->tensorflow-intel==2.16.1->tensorflow>=2.7->scenic==0.0.1) (2.1.3)\n"
     ]
    },
    {
     "name": "stderr",
     "output_type": "stream",
     "text": [
      "  Running command git clone --filter=blob:none --quiet https://github.com/google-research/scenic.git 'C:\\Users\\jaivi\\AppData\\Local\\Temp\\pip-req-build-2wfm_58p'\n",
      "  warning: the following paths have collided (e.g. case-sensitive paths\n",
      "  on a case-insensitive filesystem) and only one from the same\n",
      "  colliding group is in the working tree:\n",
      "\n",
      "    'scenic/projects/knowledge_visual_language/configs/wit_memory_G.py'\n",
      "    'scenic/projects/knowledge_visual_language/configs/wit_memory_g.py'\n",
      "    'scenic/projects/knowledge_visual_language/configs/wit_retrieval_soft_G_froze_config.py'\n",
      "    'scenic/projects/knowledge_visual_language/configs/wit_retrieval_soft_g_froze_config.py'\n",
      "  Running command git clone --filter=blob:none --quiet https://github.com/google-deepmind/optax.git 'C:\\Users\\jaivi\\AppData\\Local\\Temp\\pip-install-t180linc\\optax_52375dd16dcb4396a077f872626c9e61'\n"
     ]
    }
   ],
   "source": [
    " !pip install git+https://github.com/google-research/scenic.git"
   ]
  },
  {
   "cell_type": "code",
   "execution_count": 1,
   "id": "56ab10a7-2fb7-4c5d-996b-4f85a73f9831",
   "metadata": {},
   "outputs": [
    {
     "ename": "ModuleNotFoundError",
     "evalue": "No module named 'scenic.dataset_utils'",
     "output_type": "error",
     "traceback": [
      "\u001b[1;31m---------------------------------------------------------------------------\u001b[0m",
      "\u001b[1;31mModuleNotFoundError\u001b[0m                       Traceback (most recent call last)",
      "Cell \u001b[1;32mIn[1], line 7\u001b[0m\n\u001b[0;32m      4\u001b[0m sys\u001b[38;5;241m.\u001b[39mpath\u001b[38;5;241m.\u001b[39mappend(\u001b[38;5;124mr\u001b[39m\u001b[38;5;124m'\u001b[39m\u001b[38;5;124mC:\u001b[39m\u001b[38;5;124m\\\u001b[39m\u001b[38;5;124mUsers\u001b[39m\u001b[38;5;124m\\\u001b[39m\u001b[38;5;124mjaivi\u001b[39m\u001b[38;5;124m\\\u001b[39m\u001b[38;5;124manaconda3\u001b[39m\u001b[38;5;124m\\\u001b[39m\u001b[38;5;124menvs\u001b[39m\u001b[38;5;124m\\\u001b[39m\u001b[38;5;124mpython_new\u001b[39m\u001b[38;5;124m\\\u001b[39m\u001b[38;5;124mLib\u001b[39m\u001b[38;5;124m\\\u001b[39m\u001b[38;5;124msite-packages\u001b[39m\u001b[38;5;124m'\u001b[39m)\n\u001b[0;32m      6\u001b[0m \u001b[38;5;66;03m# Now you can import from Scenic\u001b[39;00m\n\u001b[1;32m----> 7\u001b[0m \u001b[38;5;28;01mfrom\u001b[39;00m \u001b[38;5;21;01mscenic\u001b[39;00m\u001b[38;5;21;01m.\u001b[39;00m\u001b[38;5;21;01mdataset_utils\u001b[39;00m \u001b[38;5;28;01mimport\u001b[39;00m tokenize_text_with_timestamps\n\u001b[0;32m      9\u001b[0m \u001b[38;5;66;03m# Use the imported function\u001b[39;00m\n\u001b[0;32m     10\u001b[0m text \u001b[38;5;241m=\u001b[39m \u001b[38;5;124m\"\u001b[39m\u001b[38;5;124mThis is some text with timestamps.\u001b[39m\u001b[38;5;124m\"\u001b[39m\n",
      "\u001b[1;31mModuleNotFoundError\u001b[0m: No module named 'scenic.dataset_utils'"
     ]
    }
   ],
   "source": [
    "import sys\n",
    "\n",
    "# Append the Scenic installation path to sys.path\n",
    "sys.path.append(r'C:\\Users\\jaivi\\anaconda3\\envs\\python_new\\Lib\\site-packages')\n",
    "\n",
    "# Now you can import from Scenic\n",
    "from scenic.dataset_utils import tokenize_text_with_timestamps\n",
    "\n",
    "# Use the imported function\n",
    "text = \"This is some text with timestamps.\"\n",
    "tokens = tokenize_text_with_timestamps(text)\n",
    "print(tokens)"
   ]
  },
  {
   "cell_type": "code",
   "execution_count": 6,
   "id": "82de5cbd-79ba-4a28-b5a9-7e1f5018aebd",
   "metadata": {},
   "outputs": [],
   "source": [
    "import pandas as pd\n",
    "from scenic.dataset_lib.dataset_utils import *"
   ]
  },
  {
   "cell_type": "code",
   "execution_count": null,
   "id": "da0f9da8-0144-4cba-adaa-de4c61c7079e",
   "metadata": {},
   "outputs": [],
   "source": []
  },
  {
   "cell_type": "code",
   "execution_count": null,
   "id": "18b6fbe4-5fe8-4b94-bc8f-0a9e693a5a77",
   "metadata": {},
   "outputs": [],
   "source": []
  }
 ],
 "metadata": {
  "kernelspec": {
   "display_name": "Python 3 (ipykernel)",
   "language": "python",
   "name": "python3"
  },
  "language_info": {
   "codemirror_mode": {
    "name": "ipython",
    "version": 3
   },
   "file_extension": ".py",
   "mimetype": "text/x-python",
   "name": "python",
   "nbconvert_exporter": "python",
   "pygments_lexer": "ipython3",
   "version": "3.10.14"
  }
 },
 "nbformat": 4,
 "nbformat_minor": 5
}
